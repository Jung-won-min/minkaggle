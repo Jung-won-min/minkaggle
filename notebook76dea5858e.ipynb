{
 "cells": [
  {
   "cell_type": "code",
   "execution_count": 1,
   "id": "88595b36",
   "metadata": {
    "_cell_guid": "b1076dfc-b9ad-4769-8c92-a6c4dae69d19",
    "_uuid": "8f2839f25d086af736a60e9eeb907d3b93b6e0e5",
    "execution": {
     "iopub.execute_input": "2025-04-25T08:36:11.368489Z",
     "iopub.status.busy": "2025-04-25T08:36:11.367830Z",
     "iopub.status.idle": "2025-04-25T08:36:13.277740Z",
     "shell.execute_reply": "2025-04-25T08:36:13.276569Z"
    },
    "papermill": {
     "duration": 1.916767,
     "end_time": "2025-04-25T08:36:13.279289",
     "exception": false,
     "start_time": "2025-04-25T08:36:11.362522",
     "status": "completed"
    },
    "tags": []
   },
   "outputs": [
    {
     "name": "stdout",
     "output_type": "stream",
     "text": [
      "/kaggle/input/titanic/train.csv\n",
      "/kaggle/input/titanic/test.csv\n",
      "/kaggle/input/titanic/gender_submission.csv\n"
     ]
    }
   ],
   "source": [
    "# This Python 3 environment comes with many helpful analytics libraries installed\n",
    "# It is defined by the kaggle/python Docker image: https://github.com/kaggle/docker-python\n",
    "# For example, here's several helpful packages to load\n",
    "\n",
    "import numpy as np # linear algebra\n",
    "import pandas as pd # data processing, CSV file I/O (e.g. pd.read_csv)\n",
    "\n",
    "# Input data files are available in the read-only \"../input/\" directory\n",
    "# For example, running this (by clicking run or pressing Shift+Enter) will list all files under the input directory\n",
    "\n",
    "import os\n",
    "for dirname, _, filenames in os.walk('/kaggle/input'):\n",
    "    for filename in filenames:\n",
    "        print(os.path.join(dirname, filename))\n",
    "\n",
    "# You can write up to 20GB to the current directory (/kaggle/working/) that gets preserved as output when you create a version using \"Save & Run All\" \n",
    "# You can also write temporary files to /kaggle/temp/, but they won't be saved outside of the current session"
   ]
  },
  {
   "cell_type": "code",
   "execution_count": 2,
   "id": "8288bfbc",
   "metadata": {
    "execution": {
     "iopub.execute_input": "2025-04-25T08:36:13.287450Z",
     "iopub.status.busy": "2025-04-25T08:36:13.286351Z",
     "iopub.status.idle": "2025-04-25T08:36:13.316035Z",
     "shell.execute_reply": "2025-04-25T08:36:13.315177Z"
    },
    "papermill": {
     "duration": 0.034919,
     "end_time": "2025-04-25T08:36:13.317593",
     "exception": false,
     "start_time": "2025-04-25T08:36:13.282674",
     "status": "completed"
    },
    "tags": []
   },
   "outputs": [],
   "source": [
    "train_df = pd.read_csv('/kaggle/input/titanic/train.csv')\n",
    "test_df = pd.read_csv('/kaggle/input/titanic/test.csv')"
   ]
  },
  {
   "cell_type": "code",
   "execution_count": 3,
   "id": "58aeec43",
   "metadata": {
    "execution": {
     "iopub.execute_input": "2025-04-25T08:36:13.324567Z",
     "iopub.status.busy": "2025-04-25T08:36:13.324224Z",
     "iopub.status.idle": "2025-04-25T08:36:13.338399Z",
     "shell.execute_reply": "2025-04-25T08:36:13.337561Z"
    },
    "papermill": {
     "duration": 0.019423,
     "end_time": "2025-04-25T08:36:13.340055",
     "exception": false,
     "start_time": "2025-04-25T08:36:13.320632",
     "status": "completed"
    },
    "tags": []
   },
   "outputs": [],
   "source": [
    "# Combine train + test to preprocess together\n",
    "all_df = pd.concat([train_df, test_df], sort=False)"
   ]
  },
  {
   "cell_type": "code",
   "execution_count": 4,
   "id": "e74a337e",
   "metadata": {
    "execution": {
     "iopub.execute_input": "2025-04-25T08:36:13.346950Z",
     "iopub.status.busy": "2025-04-25T08:36:13.346638Z",
     "iopub.status.idle": "2025-04-25T08:36:13.356194Z",
     "shell.execute_reply": "2025-04-25T08:36:13.355542Z"
    },
    "papermill": {
     "duration": 0.014657,
     "end_time": "2025-04-25T08:36:13.357624",
     "exception": false,
     "start_time": "2025-04-25T08:36:13.342967",
     "status": "completed"
    },
    "tags": []
   },
   "outputs": [],
   "source": [
    "# Fill missing values\n",
    "all_df.fillna({'Age': all_df['Age'].median(),\n",
    "               'Fare': all_df['Fare'].median(),\n",
    "               'Embarked': all_df['Embarked'].mode()[0]}, inplace=True)"
   ]
  },
  {
   "cell_type": "code",
   "execution_count": 5,
   "id": "413025c1",
   "metadata": {
    "execution": {
     "iopub.execute_input": "2025-04-25T08:36:13.364698Z",
     "iopub.status.busy": "2025-04-25T08:36:13.363796Z",
     "iopub.status.idle": "2025-04-25T08:36:19.291099Z",
     "shell.execute_reply": "2025-04-25T08:36:19.290205Z"
    },
    "papermill": {
     "duration": 5.932509,
     "end_time": "2025-04-25T08:36:19.292921",
     "exception": false,
     "start_time": "2025-04-25T08:36:13.360412",
     "status": "completed"
    },
    "tags": []
   },
   "outputs": [],
   "source": [
    "from sklearn.model_selection import train_test_split\n",
    "from sklearn.preprocessing import LabelEncoder, StandardScaler\n",
    "import torch\n",
    "from torch.utils.data import Dataset, DataLoader\n",
    "import torch.nn as nn\n",
    "import torch.optim as optim\n",
    "\n",
    "# Encode categorical features\n",
    "label_encoders = {}\n",
    "for col in ['Sex', 'Embarked']:\n",
    "    le = LabelEncoder()\n",
    "    all_df[col] = le.fit_transform(all_df[col])\n",
    "    label_encoders[col] = le\n",
    "\n",
    "# Select features\n",
    "features = ['Pclass', 'Sex', 'Age', 'SibSp', 'Parch', 'Fare', 'Embarked']\n",
    "X_all = all_df[features]\n",
    "\n",
    "# Split back\n",
    "X_train = X_all.iloc[:len(train_df)]\n",
    "X_test = X_all.iloc[len(train_df):]\n",
    "y_train = train_df['Survived']\n",
    "\n",
    "# Scale features\n",
    "scaler = StandardScaler()\n",
    "X_train = scaler.fit_transform(X_train)\n",
    "X_test = scaler.transform(X_test)"
   ]
  },
  {
   "cell_type": "code",
   "execution_count": 6,
   "id": "8dced83b",
   "metadata": {
    "execution": {
     "iopub.execute_input": "2025-04-25T08:36:19.300371Z",
     "iopub.status.busy": "2025-04-25T08:36:19.299416Z",
     "iopub.status.idle": "2025-04-25T08:36:19.305632Z",
     "shell.execute_reply": "2025-04-25T08:36:19.304811Z"
    },
    "papermill": {
     "duration": 0.011233,
     "end_time": "2025-04-25T08:36:19.307039",
     "exception": false,
     "start_time": "2025-04-25T08:36:19.295806",
     "status": "completed"
    },
    "tags": []
   },
   "outputs": [],
   "source": [
    "class TitanicDataset(Dataset):\n",
    "    def __init__(self, X, y=None):\n",
    "        self.X = torch.tensor(X, dtype=torch.float32)\n",
    "        self.y = torch.tensor(y.values, dtype=torch.float32) if y is not None else None\n",
    "\n",
    "    def __len__(self):\n",
    "        return len(self.X)\n",
    "\n",
    "    def __getitem__(self, idx):\n",
    "        if self.y is not None:\n",
    "            return self.X[idx], self.y[idx]\n",
    "        return self.X[idx]"
   ]
  },
  {
   "cell_type": "code",
   "execution_count": 7,
   "id": "d16bea20",
   "metadata": {
    "execution": {
     "iopub.execute_input": "2025-04-25T08:36:19.315149Z",
     "iopub.status.busy": "2025-04-25T08:36:19.314763Z",
     "iopub.status.idle": "2025-04-25T08:36:19.320040Z",
     "shell.execute_reply": "2025-04-25T08:36:19.319177Z"
    },
    "papermill": {
     "duration": 0.011605,
     "end_time": "2025-04-25T08:36:19.321535",
     "exception": false,
     "start_time": "2025-04-25T08:36:19.309930",
     "status": "completed"
    },
    "tags": []
   },
   "outputs": [],
   "source": [
    "class Classifier(nn.Module):\n",
    "    def __init__(self, input_dim):\n",
    "        super().__init__()\n",
    "        self.model = nn.Sequential(\n",
    "            nn.Linear(input_dim, 16),\n",
    "            nn.ReLU(),\n",
    "            nn.Linear(16, 1),\n",
    "            nn.Sigmoid()\n",
    "        )\n",
    "\n",
    "    def forward(self, x):\n",
    "        return self.model(x)"
   ]
  },
  {
   "cell_type": "code",
   "execution_count": 8,
   "id": "f2754d93",
   "metadata": {
    "execution": {
     "iopub.execute_input": "2025-04-25T08:36:19.328216Z",
     "iopub.status.busy": "2025-04-25T08:36:19.327625Z",
     "iopub.status.idle": "2025-04-25T08:36:19.332878Z",
     "shell.execute_reply": "2025-04-25T08:36:19.332017Z"
    },
    "papermill": {
     "duration": 0.010037,
     "end_time": "2025-04-25T08:36:19.334345",
     "exception": false,
     "start_time": "2025-04-25T08:36:19.324308",
     "status": "completed"
    },
    "tags": []
   },
   "outputs": [],
   "source": [
    "class Regressor(nn.Module):\n",
    "    def __init__(self, input_dim):\n",
    "        super().__init__()\n",
    "        self.model = nn.Sequential(\n",
    "            nn.Linear(input_dim, 16),\n",
    "            nn.ReLU(),\n",
    "            nn.Linear(16, 1),\n",
    "            nn.Sigmoid()  # 회귀도 sigmoid 붙여서 확률처럼 사용\n",
    "        )\n",
    "\n",
    "    def forward(self, x):\n",
    "        return self.model(x)"
   ]
  },
  {
   "cell_type": "code",
   "execution_count": 9,
   "id": "bfd344de",
   "metadata": {
    "execution": {
     "iopub.execute_input": "2025-04-25T08:36:19.341676Z",
     "iopub.status.busy": "2025-04-25T08:36:19.340817Z",
     "iopub.status.idle": "2025-04-25T08:36:19.346897Z",
     "shell.execute_reply": "2025-04-25T08:36:19.346164Z"
    },
    "papermill": {
     "duration": 0.011019,
     "end_time": "2025-04-25T08:36:19.348247",
     "exception": false,
     "start_time": "2025-04-25T08:36:19.337228",
     "status": "completed"
    },
    "tags": []
   },
   "outputs": [],
   "source": [
    "def train_model(model, dataloader, epochs=20, lr=0.001, task='classification'):\n",
    "    criterion = nn.BCELoss()\n",
    "    optimizer = optim.Adam(model.parameters(), lr=lr)\n",
    "\n",
    "    for epoch in range(epochs):\n",
    "        model.train()\n",
    "        total_loss = 0\n",
    "        for batch_X, batch_y in dataloader:\n",
    "            output = model(batch_X).squeeze()\n",
    "            loss = criterion(output, batch_y)\n",
    "            optimizer.zero_grad()\n",
    "            loss.backward()\n",
    "            optimizer.step()\n",
    "            total_loss += loss.item()\n",
    "        print(f\"Epoch {epoch+1}/{epochs}, Loss: {total_loss/len(dataloader):.4f}\")"
   ]
  },
  {
   "cell_type": "code",
   "execution_count": 10,
   "id": "aa83d847",
   "metadata": {
    "execution": {
     "iopub.execute_input": "2025-04-25T08:36:19.354990Z",
     "iopub.status.busy": "2025-04-25T08:36:19.354662Z",
     "iopub.status.idle": "2025-04-25T08:36:26.357280Z",
     "shell.execute_reply": "2025-04-25T08:36:26.355934Z"
    },
    "papermill": {
     "duration": 7.00797,
     "end_time": "2025-04-25T08:36:26.359040",
     "exception": false,
     "start_time": "2025-04-25T08:36:19.351070",
     "status": "completed"
    },
    "tags": []
   },
   "outputs": [
    {
     "name": "stdout",
     "output_type": "stream",
     "text": [
      "Epoch 1/20, Loss: 0.6473\n",
      "Epoch 2/20, Loss: 0.6205\n",
      "Epoch 3/20, Loss: 0.5925\n",
      "Epoch 4/20, Loss: 0.5635\n",
      "Epoch 5/20, Loss: 0.5354\n",
      "Epoch 6/20, Loss: 0.5099\n",
      "Epoch 7/20, Loss: 0.4905\n",
      "Epoch 8/20, Loss: 0.4738\n",
      "Epoch 9/20, Loss: 0.4618\n",
      "Epoch 10/20, Loss: 0.4537\n",
      "Epoch 11/20, Loss: 0.4462\n",
      "Epoch 12/20, Loss: 0.4409\n",
      "Epoch 13/20, Loss: 0.4372\n",
      "Epoch 14/20, Loss: 0.4324\n",
      "Epoch 15/20, Loss: 0.4289\n",
      "Epoch 16/20, Loss: 0.4263\n",
      "Epoch 17/20, Loss: 0.4242\n",
      "Epoch 18/20, Loss: 0.4225\n",
      "Epoch 19/20, Loss: 0.4202\n",
      "Epoch 20/20, Loss: 0.4188\n",
      "Epoch 1/20, Loss: 0.7593\n",
      "Epoch 2/20, Loss: 0.7207\n",
      "Epoch 3/20, Loss: 0.6886\n",
      "Epoch 4/20, Loss: 0.6582\n",
      "Epoch 5/20, Loss: 0.6265\n",
      "Epoch 6/20, Loss: 0.5928\n",
      "Epoch 7/20, Loss: 0.5603\n",
      "Epoch 8/20, Loss: 0.5295\n",
      "Epoch 9/20, Loss: 0.5053\n",
      "Epoch 10/20, Loss: 0.4859\n",
      "Epoch 11/20, Loss: 0.4730\n",
      "Epoch 12/20, Loss: 0.4629\n",
      "Epoch 13/20, Loss: 0.4557\n",
      "Epoch 14/20, Loss: 0.4498\n",
      "Epoch 15/20, Loss: 0.4453\n",
      "Epoch 16/20, Loss: 0.4420\n",
      "Epoch 17/20, Loss: 0.4376\n",
      "Epoch 18/20, Loss: 0.4355\n",
      "Epoch 19/20, Loss: 0.4326\n",
      "Epoch 20/20, Loss: 0.4311\n"
     ]
    }
   ],
   "source": [
    "# Dataset & DataLoader\n",
    "train_dataset = TitanicDataset(X_train, y_train)\n",
    "train_loader = DataLoader(train_dataset, batch_size=32, shuffle=True)\n",
    "\n",
    "# Classification\n",
    "clf_model = Classifier(input_dim=X_train.shape[1])\n",
    "train_model(clf_model, train_loader, task='classification')\n",
    "\n",
    "# Regression\n",
    "reg_model = Regressor(input_dim=X_train.shape[1])\n",
    "train_model(reg_model, train_loader, task='regression')"
   ]
  },
  {
   "cell_type": "code",
   "execution_count": 11,
   "id": "b0cc895c",
   "metadata": {
    "execution": {
     "iopub.execute_input": "2025-04-25T08:36:26.366294Z",
     "iopub.status.busy": "2025-04-25T08:36:26.365884Z",
     "iopub.status.idle": "2025-04-25T08:36:26.394589Z",
     "shell.execute_reply": "2025-04-25T08:36:26.393759Z"
    },
    "papermill": {
     "duration": 0.034073,
     "end_time": "2025-04-25T08:36:26.396231",
     "exception": false,
     "start_time": "2025-04-25T08:36:26.362158",
     "status": "completed"
    },
    "tags": []
   },
   "outputs": [],
   "source": [
    "# 예측\n",
    "test_dataset = TitanicDataset(X_test)\n",
    "test_loader = DataLoader(test_dataset, batch_size=32, shuffle=False)\n",
    "\n",
    "def predict(model, loader):\n",
    "    model.eval()\n",
    "    preds = []\n",
    "    with torch.no_grad():\n",
    "        for batch in loader:\n",
    "            out = model(batch).squeeze()\n",
    "            preds.extend(out.tolist())\n",
    "    return np.array(preds)\n",
    "\n",
    "# Classification\n",
    "clf_preds = predict(clf_model, test_loader)\n",
    "clf_preds_bin = (clf_preds >= 0.5).astype(int)\n",
    "\n",
    "# Regression (후처리 동일)\n",
    "reg_preds = predict(reg_model, test_loader)\n",
    "reg_preds_bin = (reg_preds >= 0.5).astype(int)\n",
    "\n",
    "# 제출용\n",
    "submission = pd.read_csv('/kaggle/input/titanic/gender_submission.csv')\n",
    "submission['Survived'] = clf_preds_bin  # 또는 reg_preds_bin\n",
    "submission.to_csv('submission.csv', index=False)"
   ]
  }
 ],
 "metadata": {
  "kaggle": {
   "accelerator": "none",
   "dataSources": [
    {
     "databundleVersionId": 26502,
     "sourceId": 3136,
     "sourceType": "competition"
    }
   ],
   "dockerImageVersionId": 31012,
   "isGpuEnabled": false,
   "isInternetEnabled": true,
   "language": "python",
   "sourceType": "notebook"
  },
  "kernelspec": {
   "display_name": "Python 3",
   "language": "python",
   "name": "python3"
  },
  "language_info": {
   "codemirror_mode": {
    "name": "ipython",
    "version": 3
   },
   "file_extension": ".py",
   "mimetype": "text/x-python",
   "name": "python",
   "nbconvert_exporter": "python",
   "pygments_lexer": "ipython3",
   "version": "3.11.11"
  },
  "papermill": {
   "default_parameters": {},
   "duration": 24.028089,
   "end_time": "2025-04-25T08:36:29.728796",
   "environment_variables": {},
   "exception": null,
   "input_path": "__notebook__.ipynb",
   "output_path": "__notebook__.ipynb",
   "parameters": {},
   "start_time": "2025-04-25T08:36:05.700707",
   "version": "2.6.0"
  }
 },
 "nbformat": 4,
 "nbformat_minor": 5
}
